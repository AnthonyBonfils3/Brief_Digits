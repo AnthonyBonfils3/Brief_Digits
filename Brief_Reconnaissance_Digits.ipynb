{
 "cells": [
  {
   "cell_type": "markdown",
   "metadata": {},
   "source": [
    "# <font color=\"#8333ff\">Detect hand-written digits with logistic regression and explore gradient descent\n",
    "\n",
    "Dans ce Brief, nous allons appliquer le principe de la régression logistique sur un cas d'étude portant sur la classification d'images (Digits), comparer les performances de différents algorithmes de classifications et investiguer le principe de déscente de gradiant, sa convergence...\n",
    "\n",
    "## Description\n",
    "\n",
    "Mr Pontier is back and needs your help. This times, he needs to automatically detect hand-written digits written on pictures that represents the phone numbers of his clients and collaborators.\n",
    "Because he has thousands of documents, this will take far too long to do it manually. This is why he asked you if you can design an algorithm that automatically detect the number from the pictures.\n",
    "\n",
    "Furthermore, Mr Pontier wants\n",
    "* to understand how the algorithm works,\n",
    "* to compare the performance with several classification algorithms \n",
    "* to observe the convergence of a grandient descent algorithm for further investigation."
   ]
  },
  {
   "cell_type": "code",
   "execution_count": 1,
   "metadata": {},
   "outputs": [],
   "source": [
    "# Import some libraries\n",
    "\n",
    "import numpy as np\n",
    "from sklearn.datasets import load_digits\n",
    "import matplotlib.pyplot as plt "
   ]
  },
  {
   "cell_type": "markdown",
   "metadata": {},
   "source": [
    "## 1. Show and anderstand the datas"
   ]
  },
  {
   "cell_type": "code",
   "execution_count": 2,
   "metadata": {},
   "outputs": [
    {
     "name": "stdout",
     "output_type": "stream",
     "text": [
      "(1797, 64)\n"
     ]
    }
   ],
   "source": [
    "# Import some data\n",
    "digits = load_digits()\n",
    "# Show dimensionality\n",
    "print(digits.data.shape)"
   ]
  },
  {
   "cell_type": "code",
   "execution_count": 3,
   "metadata": {},
   "outputs": [
    {
     "name": "stdout",
     "output_type": "stream",
     "text": [
      ".. _digits_dataset:\n",
      "\n",
      "Optical recognition of handwritten digits dataset\n",
      "--------------------------------------------------\n",
      "\n",
      "**Data Set Characteristics:**\n",
      "\n",
      "    :Number of Instances: 5620\n",
      "    :Number of Attributes: 64\n",
      "    :Attribute Information: 8x8 image of integer pixels in the range 0..16.\n",
      "    :Missing Attribute Values: None\n",
      "    :Creator: E. Alpaydin (alpaydin '@' boun.edu.tr)\n",
      "    :Date: July; 1998\n",
      "\n",
      "This is a copy of the test set of the UCI ML hand-written digits datasets\n",
      "https://archive.ics.uci.edu/ml/datasets/Optical+Recognition+of+Handwritten+Digits\n",
      "\n",
      "The data set contains images of hand-written digits: 10 classes where\n",
      "each class refers to a digit.\n",
      "\n",
      "Preprocessing programs made available by NIST were used to extract\n",
      "normalized bitmaps of handwritten digits from a preprinted form. From a\n",
      "total of 43 people, 30 contributed to the training set and different 13\n",
      "to the test set. 32x32 bitmaps are divided into nonoverlapping blocks of\n",
      "4x4 and the number of on pixels are counted in each block. This generates\n",
      "an input matrix of 8x8 where each element is an integer in the range\n",
      "0..16. This reduces dimensionality and gives invariance to small\n",
      "distortions.\n",
      "\n",
      "For info on NIST preprocessing routines, see M. D. Garris, J. L. Blue, G.\n",
      "T. Candela, D. L. Dimmick, J. Geist, P. J. Grother, S. A. Janet, and C.\n",
      "L. Wilson, NIST Form-Based Handprint Recognition System, NISTIR 5469,\n",
      "1994.\n",
      "\n",
      ".. topic:: References\n",
      "\n",
      "  - C. Kaynak (1995) Methods of Combining Multiple Classifiers and Their\n",
      "    Applications to Handwritten Digit Recognition, MSc Thesis, Institute of\n",
      "    Graduate Studies in Science and Engineering, Bogazici University.\n",
      "  - E. Alpaydin, C. Kaynak (1998) Cascading Classifiers, Kybernetika.\n",
      "  - Ken Tang and Ponnuthurai N. Suganthan and Xi Yao and A. Kai Qin.\n",
      "    Linear dimensionalityreduction using relevance weighted LDA. School of\n",
      "    Electrical and Electronic Engineering Nanyang Technological University.\n",
      "    2005.\n",
      "  - Claudio Gentile. A New Approximate Maximal Margin Classification\n",
      "    Algorithm. NIPS. 2000.\n"
     ]
    }
   ],
   "source": [
    "## Description du fichier\n",
    "print(digits.DESCR)"
   ]
  },
  {
   "cell_type": "code",
   "execution_count": 4,
   "metadata": {
    "scrolled": true
   },
   "outputs": [
    {
     "data": {
      "text/plain": [
       "['pixel_0_0', 'pixel_0_1', 'pixel_0_2', 'pixel_0_3', 'pixel_0_4']"
      ]
     },
     "execution_count": 4,
     "metadata": {},
     "output_type": "execute_result"
    }
   ],
   "source": [
    "digits.feature_names[:5]"
   ]
  },
  {
   "cell_type": "code",
   "execution_count": 5,
   "metadata": {},
   "outputs": [
    {
     "data": {
      "text/plain": [
       "array([0, 1, 2, 3, 4, 5, 6, 7, 8, 9])"
      ]
     },
     "execution_count": 5,
     "metadata": {},
     "output_type": "execute_result"
    }
   ],
   "source": [
    "digits.target_names"
   ]
  },
  {
   "cell_type": "code",
   "execution_count": 6,
   "metadata": {},
   "outputs": [
    {
     "data": {
      "text/plain": [
       "<Figure size 432x288 with 0 Axes>"
      ]
     },
     "metadata": {},
     "output_type": "display_data"
    },
    {
     "data": {
      "image/png": "[encoded data removed]",
      "text/plain": [
       "<Figure size 1080x1080 with 100 Axes>"
      ]
     },
     "metadata": {
      "needs_background": "light"
     },
     "output_type": "display_data"
    }
   ],
   "source": [
    "# Show several data for each label (== category) \n",
    "\n",
    "X = digits.images\n",
    "Y = digits.target\n",
    "\n",
    "n_digits = np.unique(Y)\n",
    "M = 10\n",
    "dim = int(np.sqrt(X.shape[1]))\n",
    "plt.gray()\n",
    "fig, axs = plt.subplots(len(n_digits), M, figsize=(15, 15))\n",
    "\n",
    "for i, d in enumerate(n_digits):\n",
    "    for j in range(M): ## avantage range ne crée pas la liste mais juste l'element au moment ou on en a besoin\n",
    "                       ## donc gain mémoire\n",
    "        axs[i,j].imshow(X[Y == d][j]) ## broadcast : Y == d renvoi une liste de True False ou les valeurs sont à \n",
    "                                      ## True à chaque fois que la condition est remplie. Et X[Y == d] est une \n",
    "                                      ## sous liste de X evec que les éléments qui vérifie la condition\n",
    "        axs[i,j].axis('off')"
   ]
  },
  {
   "cell_type": "code",
   "execution_count": 7,
   "metadata": {},
   "outputs": [
    {
     "data": {
      "text/plain": [
       "array([[ 0.,  2.,  9., 15., 14.,  9.,  3.,  0.],\n",
       "       [ 0.,  4., 13.,  8.,  9., 16.,  8.,  0.],\n",
       "       [ 0.,  0.,  0.,  6., 14., 15.,  3.,  0.],\n",
       "       [ 0.,  0.,  0., 11., 14.,  2.,  0.,  0.],\n",
       "       [ 0.,  0.,  0.,  2., 15., 11.,  0.,  0.],\n",
       "       [ 0.,  0.,  0.,  0.,  2., 15.,  4.,  0.],\n",
       "       [ 0.,  1.,  5.,  6., 13., 16.,  6.,  0.],\n",
       "       [ 0.,  2., 12., 12., 13., 11.,  0.,  0.]])"
      ]
     },
     "execution_count": 7,
     "metadata": {},
     "output_type": "execute_result"
    }
   ],
   "source": [
    "X[Y == 3][1] # récupère le 1er élément de X correspondant à une image 3"
   ]
  },
  {
   "cell_type": "code",
   "execution_count": 8,
   "metadata": {},
   "outputs": [],
   "source": [
    "# np.linspace? # ? permet d'ouvrir la doc"
   ]
  },
  {
   "cell_type": "code",
   "execution_count": 9,
   "metadata": {},
   "outputs": [
    {
     "name": "stdout",
     "output_type": "stream",
     "text": [
      "Image Data Shape (1797, 64)\n",
      "Label Data Shape (1797,) of type int64\n",
      "Possible value of Label :  [0, 1, 2, 3, 4, 5, 6, 7, 8, 9]\n"
     ]
    }
   ],
   "source": [
    "# Print montrant qu'il y a 1797 images dans le set (images de 8*8 pixels donc 64 pixels au total)\n",
    "print(\"Image Data Shape\" , digits.data.shape)\n",
    "\n",
    "# Print montrant qu'il y a 1797 labels d'images (c'est un int de 0 à 9)\n",
    "print(\"Label Data Shape\", digits.target.shape, \"of type\", digits.target.dtype)\n",
    "print(\"Possible value of Label : \", [each for each in np.unique(digits.target.ravel())])\n"
   ]
  },
  {
   "cell_type": "code",
   "execution_count": 10,
   "metadata": {},
   "outputs": [
    {
     "data": {
      "text/plain": [
       "array([ 0.,  1.,  2.,  3.,  4.,  5.,  6.,  7.,  8.,  9., 10., 11., 12.,\n",
       "       13., 14., 15., 16.])"
      ]
     },
     "execution_count": 10,
     "metadata": {},
     "output_type": "execute_result"
    }
   ],
   "source": [
    "np.unique(digits.data.ravel())"
   ]
  },
  {
   "cell_type": "code",
   "execution_count": 11,
   "metadata": {},
   "outputs": [
    {
     "name": "stdout",
     "output_type": "stream",
     "text": [
      "[ 0.  1.  2.  3.  4.  5.  6.  7.  8.  9. 10. 11. 12. 13. 14. 15. 16. 17.\n",
      " 18. 19. 20. 21. 22. 23. 24. 25. 26. 27. 28. 29. 30. 31. 32. 33. 34. 35.\n",
      " 36. 37. 38. 39. 40. 41. 42. 43. 44. 45. 46. 47. 48. 49. 50. 51. 52. 53.\n",
      " 54. 55. 56. 57. 58. 59. 60. 61. 62. 63.]\n",
      "[[ 0.  1.  2.  3.  4.  5.  6.  7.]\n",
      " [ 8.  9. 10. 11. 12. 13. 14. 15.]\n",
      " [16. 17. 18. 19. 20. 21. 22. 23.]\n",
      " [24. 25. 26. 27. 28. 29. 30. 31.]\n",
      " [32. 33. 34. 35. 36. 37. 38. 39.]\n",
      " [40. 41. 42. 43. 44. 45. 46. 47.]\n",
      " [48. 49. 50. 51. 52. 53. 54. 55.]\n",
      " [56. 57. 58. 59. 60. 61. 62. 63.]]\n"
     ]
    },
    {
     "data": {
      "text/plain": [
       "<matplotlib.image.AxesImage at 0x7f7ea9afe820>"
      ]
     },
     "execution_count": 11,
     "metadata": {},
     "output_type": "execute_result"
    },
    {
     "data": {
      "image/png": "[encoded data removed]",
      "text/plain": [
       "<Figure size 288x288 with 1 Axes>"
      ]
     },
     "metadata": {
      "needs_background": "light"
     },
     "output_type": "display_data"
    }
   ],
   "source": [
    "taille = int(64)\n",
    "a = np.linspace(0, taille-1, num=taille)\n",
    "print(a)\n",
    "a = a.reshape(int(np.sqrt(taille)),int(np.sqrt(taille)))\n",
    "print(a)\n",
    "plt.matshow(a) "
   ]
  },
  {
   "cell_type": "code",
   "execution_count": 12,
   "metadata": {},
   "outputs": [
    {
     "data": {
      "text/plain": [
       "dtype('float64')"
      ]
     },
     "execution_count": 12,
     "metadata": {},
     "output_type": "execute_result"
    }
   ],
   "source": [
    "# Type de valeur\n",
    "digits.data.dtype"
   ]
  },
  {
   "cell_type": "code",
   "execution_count": 13,
   "metadata": {},
   "outputs": [
    {
     "data": {
      "image/png": "[encoded data removed]",
      "text/plain": [
       "<Figure size 288x288 with 1 Axes>"
      ]
     },
     "metadata": {
      "needs_background": "light"
     },
     "output_type": "display_data"
    }
   ],
   "source": [
    "# Show one data \n",
    "num = 7\n",
    "plt.matshow(digits.images[num]) \n",
    "plt.show() "
   ]
  },
  {
   "cell_type": "code",
   "execution_count": 14,
   "metadata": {},
   "outputs": [
    {
     "data": {
      "text/plain": [
       "array([[ 0.,  0.,  7.,  8., 13., 16., 15.,  1.],\n",
       "       [ 0.,  0.,  7.,  7.,  4., 11., 12.,  0.],\n",
       "       [ 0.,  0.,  0.,  0.,  8., 13.,  1.,  0.],\n",
       "       [ 0.,  4.,  8.,  8., 15., 15.,  6.,  0.],\n",
       "       [ 0.,  2., 11., 15., 15.,  4.,  0.,  0.],\n",
       "       [ 0.,  0.,  0., 16.,  5.,  0.,  0.,  0.],\n",
       "       [ 0.,  0.,  9., 15.,  1.,  0.,  0.,  0.],\n",
       "       [ 0.,  0., 13.,  5.,  0.,  0.,  0.,  0.]])"
      ]
     },
     "execution_count": 14,
     "metadata": {},
     "output_type": "execute_result"
    }
   ],
   "source": [
    "digits.images[num]"
   ]
  },
  {
   "cell_type": "code",
   "execution_count": 15,
   "metadata": {},
   "outputs": [
    {
     "data": {
      "text/plain": [
       "7"
      ]
     },
     "execution_count": 15,
     "metadata": {},
     "output_type": "execute_result"
    }
   ],
   "source": [
    "digits.target[num]"
   ]
  },
  {
   "cell_type": "code",
   "execution_count": 16,
   "metadata": {},
   "outputs": [
    {
     "data": {
      "text/plain": [
       "16.0"
      ]
     },
     "execution_count": 16,
     "metadata": {},
     "output_type": "execute_result"
    }
   ],
   "source": [
    "digits.images.max()"
   ]
  },
  {
   "cell_type": "code",
   "execution_count": 17,
   "metadata": {},
   "outputs": [
    {
     "data": {
      "image/png": "[encoded data removed]",
      "text/plain": [
       "<Figure size 1440x288 with 5 Axes>"
      ]
     },
     "metadata": {
      "needs_background": "light"
     },
     "output_type": "display_data"
    }
   ],
   "source": [
    "plt.figure(figsize=(20,4))\n",
    "for index, (image, label) in enumerate(zip(digits.data[0:5], digits.target[0:5])):\n",
    "    plt.subplot(1, 5, index + 1)\n",
    "    plt.imshow(np.reshape(image, (8,8)), cmap=plt.cm.gray)\n",
    "    plt.title('Training: %i\\n' % label, fontsize = 20)"
   ]
  },
  {
   "cell_type": "code",
   "execution_count": null,
   "metadata": {},
   "outputs": [],
   "source": []
  },
  {
   "cell_type": "markdown",
   "metadata": {},
   "source": [
    "**Apprentissage sur les données :**\n",
    "* 1797 images (représentant des chiffre) sont présentes dans ce set et la valeur du chiffre correspondant (label)\n",
    "* Les images étant labélisée, le problème posé est un problème de classification supervisée (supervisée car chaque image est labélisée)\n",
    "* Une image est composée de 8*8 = 64 pixels\n",
    "* Chaque pixel à une valeur comprise entre 0 à 16\n",
    "* Un label d'image est une valeur de chiffre (int de 0 à 9)"
   ]
  },
  {
   "cell_type": "markdown",
   "metadata": {},
   "source": [
    "## 2) Prepare your ML algorithm\n",
    "### How to evaluate classification algorithms ?\n",
    "Veille : \n",
    "* https://scikit-learn.org\n",
    "Pour effectuer une classification supervisée, sklearn propose plusieurs types d'algo (liste non exhaustive) :\n",
    "    * Regression logistic\n",
    "    * Support Vector Machines\n",
    "    * Stochastic Gradient Descent\n",
    "    * Nearest Neighbors\n",
    "    * Gaussian Processes\n",
    "    * Decision Trees\n",
    "    * ...\n",
    "* wikipedia\n",
    "* towards data science\n",
    "* ...\n",
    "\n",
    "* Questions :\n",
    "\n",
    "    1. Write the equation of the precision and recall score and explicit what each terms represents.\n",
    "    2. explain the purpose of the training set ?\n",
    "    3. explain the prpose of the testing set ?\n"
   ]
  },
  {
   "cell_type": "code",
   "execution_count": null,
   "metadata": {},
   "outputs": [],
   "source": []
  },
  {
   "cell_type": "code",
   "execution_count": null,
   "metadata": {},
   "outputs": [],
   "source": []
  },
  {
   "cell_type": "markdown",
   "metadata": {},
   "source": [
    "### What does the train_test_split function in sklearn do ?"
   ]
  },
  {
   "cell_type": "markdown",
   "metadata": {},
   "source": [
    "![image1](./img/img1.png)"
   ]
  },
  {
   "cell_type": "markdown",
   "metadata": {},
   "source": [
    "![image](./img/compromis_biais_variance.png)"
   ]
  },
  {
   "cell_type": "code",
   "execution_count": null,
   "metadata": {},
   "outputs": [],
   "source": []
  },
  {
   "cell_type": "markdown",
   "metadata": {},
   "source": [
    "### Splitting Data into Training and Test Sets (Digits Dataset)\n",
    "\n",
    "Veille : ..."
   ]
  },
  {
   "cell_type": "code",
   "execution_count": 18,
   "metadata": {},
   "outputs": [
    {
     "name": "stdout",
     "output_type": "stream",
     "text": [
      "1437\n",
      "360\n",
      "The testing set is about 20 % of the set values.\n",
      "The ratio is as it defined in the ``train_test_split`` fonction.\n"
     ]
    }
   ],
   "source": [
    "from sklearn.model_selection import train_test_split\n",
    "xtrain, xtest, ytrain, ytest = train_test_split(digits.data, digits.target, test_size=0.2, random_state=0)\n",
    "\n",
    "## Vérif test set size\n",
    "ndata = digits.data.shape\n",
    "#print(ndata[0])\n",
    "ntrain = xtrain.shape\n",
    "print(ntrain[0])\n",
    "ntest = xtest.shape\n",
    "print(ntest[0])\n",
    "\n",
    "print(\"The testing set is about {} % of the set values.\".format(round((ntest[0]/ndata[0])*100)))\n",
    "print('The ratio is as it defined in the ``train_test_split`` fonction.')"
   ]
  },
  {
   "cell_type": "markdown",
   "metadata": {},
   "source": [
    "## 3) Predict Digits\n",
    "\n",
    "**In the dataset we have multiple label. Therefore, to start we will predict in a binary case. It means that that we will predict only if an image is a given digit (for exemple `7`).**\n",
    "\n",
    "To do that we will a **logistic regression** algorithm plus (at least) **two** others of your choices.\n",
    "\n",
    "Fit the model and show the performance results whithin a table for each models in terms of:\n",
    "* the **precision** score on the testing set \n",
    "* the **recall** score on the testing set\n",
    "* the inference time for each algorithm\n",
    "\n",
    "**Precision**\n",
    "\n",
    "In the field of information retrieval, precision is the fraction of retrieved documents that are relevant to the query:\n",
    "\n",
    "![image](./img/img2.svg)\n",
    "\n",
    "For example, for a text search on a set of documents, precision is the number of correct results divided by the number of all returned results.\n",
    "\n",
    "Precision takes all retrieved documents into account, but it can also be evaluated at a given cut-off rank, considering only the topmost results returned by the system. This measure is called precision at n or P@n.\n",
    "\n",
    "Precision is used with recall, the percent of all relevant documents that is returned by the search. The two measures are sometimes used together in the F1 Score (or f-measure) to provide a single measurement for a system.\n",
    "\n",
    "Note that the meaning and usage of \"precision\" in the field of information retrieval differs from the definition of accuracy and precision within other branches of science and technology.\n",
    "\n",
    "**Recall**\n",
    "\n",
    "In information retrieval, recall is the fraction of the relevant documents that are successfully retrieved.\n",
    "\n",
    "![image](./img/img3.svg)\n",
    "\n",
    "For example, for a text search on a set of documents, recall is the number of correct results divided by the number of results that should have been returned.\n",
    "\n",
    "In binary classification, recall is called sensitivity. It can be viewed as the probability that a relevant document is retrieved by the query.\n",
    "\n",
    "It is trivial to achieve recall of 100% by returning all documents in response to any query. Therefore, recall alone is not enough but one needs to measure the number of non-relevant documents also, for example by also computing the precision. \n",
    "\n",
    "![precision_recall](./img/prec_recall.png)"
   ]
  },
  {
   "cell_type": "markdown",
   "metadata": {},
   "source": [
    "### 3.1 Modification des données\n",
    "Une sortie y par chiffre, pour pouvoir fit un modèle particulier sur un chiffre donné"
   ]
  },
  {
   "cell_type": "code",
   "execution_count": 19,
   "metadata": {},
   "outputs": [],
   "source": [
    "ytrain0 = np.array([1 if ytrain[i]==0 else 0 for i in range(len(ytrain))])\n",
    "ytrain1 = np.array([1 if ytrain[i]==1 else 0 for i in range(len(ytrain))])\n",
    "ytrain2 = np.array([1 if ytrain[i]==2 else 0 for i in range(len(ytrain))])\n",
    "ytrain3 = np.array([1 if ytrain[i]==3 else 0 for i in range(len(ytrain))])\n",
    "ytrain4 = np.array([1 if ytrain[i]==4 else 0 for i in range(len(ytrain))])\n",
    "ytrain5 = np.array([1 if ytrain[i]==5 else 0 for i in range(len(ytrain))])\n",
    "ytrain6 = np.array([1 if ytrain[i]==6 else 0 for i in range(len(ytrain))])\n",
    "ytrain7 = np.array([1 if ytrain[i]==7 else 0 for i in range(len(ytrain))])\n",
    "ytrain8 = np.array([1 if ytrain[i]==8 else 0 for i in range(len(ytrain))])\n",
    "ytrain9 = np.array([1 if ytrain[i]==9 else 0 for i in range(len(ytrain))])\n",
    "\n",
    "t = 35\n",
    "\n",
    "#print(ytrain[:t])\n",
    "#print(ytrain0[:t])\n",
    "#print(ytrain[:t])\n",
    "#print(ytrain1[:t])\n",
    "#print(ytrain[:t])\n",
    "#print(ytrain2[:t])\n",
    "#print(ytrain[:t])\n",
    "#print(ytrain3[:t])\n",
    "#print(ytrain[:t])\n",
    "#print(ytrain4[:t])\n",
    "#print(ytrain[:t])\n",
    "#print(ytrain5[:t])\n",
    "#print(ytrain[:t])\n",
    "#print(ytrain6[:t])\n",
    "#print(ytrain[:t])\n",
    "#print(ytrain7[:t])\n",
    "#print(ytrain[:t])\n",
    "#print(ytrain8[:t])\n",
    "#print(ytrain[:t])\n",
    "#print(ytrain9[:t])\n",
    "\n",
    "ytest0 = np.array([1 if ytest[i]==0 else 0 for i in range(len(ytest))])\n",
    "ytest1 = np.array([1 if ytest[i]==1 else 0 for i in range(len(ytest))])\n",
    "ytest2 = np.array([1 if ytest[i]==2 else 0 for i in range(len(ytest))])\n",
    "ytest3 = np.array([1 if ytest[i]==3 else 0 for i in range(len(ytest))])\n",
    "ytest4 = np.array([1 if ytest[i]==4 else 0 for i in range(len(ytest))])\n",
    "ytest5 = np.array([1 if ytest[i]==5 else 0 for i in range(len(ytest))])\n",
    "ytest6 = np.array([1 if ytest[i]==6 else 0 for i in range(len(ytest))])\n",
    "ytest7 = np.array([1 if ytest[i]==7 else 0 for i in range(len(ytest))])\n",
    "ytest8 = np.array([1 if ytest[i]==8 else 0 for i in range(len(ytest))])\n",
    "ytest9 = np.array([1 if ytest[i]==9 else 0 for i in range(len(ytest))])\n",
    "\n",
    "#print(ytest[:t])\n",
    "#print(ytest0[:t])\n",
    "#print(ytest[:t])\n",
    "#print(ytest1[:t])\n",
    "#print(ytest[:t])\n",
    "#print(ytest2[:t])\n",
    "#print(ytest[:t])\n",
    "#print(ytest3[:t])\n",
    "#print(ytest[:t])\n",
    "#print(ytest4[:t])\n",
    "#print(ytest[:t])\n",
    "#print(ytest5[:t])\n",
    "#print(ytest[:t])\n",
    "#print(ytest6[:t])\n",
    "#print(ytest[:t])\n",
    "#print(ytest7[:t])\n",
    "#print(ytest[:t])\n",
    "#print(ytest8[:t])\n",
    "#print(ytest[:t])\n",
    "#print(ytest9[:t])\n",
    "\n"
   ]
  },
  {
   "cell_type": "markdown",
   "metadata": {},
   "source": [
    "### 3.2 Modèle en triant les données Avec les datas pour les 0"
   ]
  },
  {
   "cell_type": "code",
   "execution_count": 20,
   "metadata": {},
   "outputs": [
    {
     "name": "stdout",
     "output_type": "stream",
     "text": [
      "71.8 ms ± 13.5 ms per loop (mean ± std. dev. of 7 runs, 10 loops each)\n",
      "[2 8 2 6 6 7 1 9 8 5 2 8 6 6 6 6 1 0 5 8 8 7 8 4 7 5 4 9 2 9 4 7 6 8 9]\n",
      "[0 0 0 0 0 0 0 0 0 0 0 0 0 0 0 0 0 1 0 0 0 0 0 0 0 0 0 0 0 0 0 0 0 0 0]\n",
      "La précision obtenue est de 96.6 %\n",
      "Le recall obtenue est de 99.7 %\n",
      "              precision    recall  f1-score   support\n",
      "\n",
      "           0       1.00      0.99      1.00       333\n",
      "           1       0.93      1.00      0.96        27\n",
      "\n",
      "    accuracy                           0.99       360\n",
      "   macro avg       0.97      1.00      0.98       360\n",
      "weighted avg       0.99      0.99      0.99       360\n",
      "\n"
     ]
    }
   ],
   "source": [
    "from sklearn.linear_model import LogisticRegression\n",
    "from sklearn.metrics import precision_score\n",
    "from sklearn.metrics import recall_score\n",
    "from sklearn.metrics import classification_report\n",
    "\n",
    "LogReg0 = LogisticRegression(max_iter = 2000)\n",
    "%timeit LogReg0.fit(xtrain,ytrain0)\n",
    "LogReg0.fit(xtrain,ytrain0)\n",
    "\n",
    "# Make predictions on entire test data\n",
    "ypred0 = LogReg0.predict(xtest)\n",
    "print(ytest[:t])\n",
    "print(ypred0[:t]) # permet en effet de prédire les 0\n",
    "print(\"La précision obtenue est de {} %\".format(round(precision_score(list(ytest0), list(ypred0), \n",
    "                                                                     average = \"macro\"),3)*100))\n",
    "print(\"Le recall obtenue est de {} %\".format(round(recall_score(list(ytest0), list(ypred0), \n",
    "                                                               average = \"macro\"),3)*100))\n",
    "print(classification_report(ytest0, ypred0))"
   ]
  },
  {
   "cell_type": "markdown",
   "metadata": {},
   "source": [
    "### 3.3 Fit d'un modèle par type d'image :  1, 2, 3  etc....\n",
    "L'idée est de Fit un modèle permettant de classifier les 0, un pour classifier les 1 etc..."
   ]
  },
  {
   "cell_type": "code",
   "execution_count": 21,
   "metadata": {},
   "outputs": [
    {
     "data": {
      "text/plain": [
       "LogisticRegression(max_iter=2000)"
      ]
     },
     "execution_count": 21,
     "metadata": {},
     "output_type": "execute_result"
    }
   ],
   "source": [
    "LogReg1 = LogisticRegression(max_iter = 2000)\n",
    "LogReg1.fit(xtrain,ytrain1)\n",
    "LogReg2 = LogisticRegression(max_iter = 2000)\n",
    "LogReg2.fit(xtrain,ytrain2)\n",
    "LogReg3 = LogisticRegression(max_iter = 2000)\n",
    "LogReg3.fit(xtrain,ytrain3)\n",
    "LogReg4 = LogisticRegression(max_iter = 2000)\n",
    "LogReg4.fit(xtrain,ytrain4)\n",
    "LogReg5 = LogisticRegression(max_iter = 2000)\n",
    "LogReg5.fit(xtrain,ytrain5)\n",
    "LogReg6 = LogisticRegression(max_iter = 2000)\n",
    "LogReg6.fit(xtrain,ytrain6)\n",
    "LogReg7 = LogisticRegression(max_iter = 2000)\n",
    "LogReg7.fit(xtrain,ytrain7)\n",
    "LogReg8 = LogisticRegression(max_iter = 2000)\n",
    "LogReg8.fit(xtrain,ytrain8)\n",
    "LogReg9 = LogisticRegression(max_iter = 2000)\n",
    "LogReg9.fit(xtrain,ytrain9)"
   ]
  },
  {
   "cell_type": "code",
   "execution_count": 22,
   "metadata": {},
   "outputs": [
    {
     "name": "stdout",
     "output_type": "stream",
     "text": [
      "[2 8 2 6 6 7 1 9 8 5 2 8 6 6 6 6 1 0 5 8 8 7 8 4 7 5 4 9 2 9 4 7 6 8 9]\n",
      "[0 0 0 0 0 0 1 0 0 0 0 0 0 0 0 0 1 0 0 0 0 0 0 0 0 0 0 0 0 0 0 0 0 0 0]\n",
      "La précision obtenue est de 92.7 %\n",
      "Le recall obtenue est de 89.4 %\n",
      "              precision    recall  f1-score   support\n",
      "\n",
      "           0       0.98      0.99      0.98       325\n",
      "           1       0.88      0.80      0.84        35\n",
      "\n",
      "    accuracy                           0.97       360\n",
      "   macro avg       0.93      0.89      0.91       360\n",
      "weighted avg       0.97      0.97      0.97       360\n",
      "\n",
      "-------------------------------------------------------------------\n",
      "[2 8 2 6 6 7 1 9 8 5 2 8 6 6 6 6 1 0 5 8 8 7 8 4 7 5 4 9 2 9 4 7 6 8 9]\n",
      "[1 0 1 0 0 0 0 0 0 0 1 0 0 0 0 0 0 0 0 0 0 0 0 0 0 0 0 0 1 0 0 0 0 0 0]\n",
      "La précision obtenue est de 100.0 %\n",
      "Le recall obtenue est de 100.0 %\n",
      "              precision    recall  f1-score   support\n",
      "\n",
      "           0       1.00      1.00      1.00       324\n",
      "           1       1.00      1.00      1.00        36\n",
      "\n",
      "    accuracy                           1.00       360\n",
      "   macro avg       1.00      1.00      1.00       360\n",
      "weighted avg       1.00      1.00      1.00       360\n",
      "\n",
      "-------------------------------------------------------------------\n",
      "[2 8 2 6 6 7 1 9 8 5 2 8 6 6 6 6 1 0 5 8 8 7 8 4 7 5 4 9 2 9 4 7 6 8 9]\n",
      "[0 0 0 0 0 0 0 0 0 0 0 0 0 0 0 0 0 0 0 0 0 0 0 0 0 0 0 0 0 0 0 0 0 0 0]\n",
      "La précision obtenue est de 95.0 %\n",
      "Le recall obtenue est de 97.8 %\n",
      "              precision    recall  f1-score   support\n",
      "\n",
      "           0       1.00      0.99      0.99       331\n",
      "           1       0.90      0.97      0.93        29\n",
      "\n",
      "    accuracy                           0.99       360\n",
      "   macro avg       0.95      0.98      0.96       360\n",
      "weighted avg       0.99      0.99      0.99       360\n",
      "\n",
      "-------------------------------------------------------------------\n",
      "[2 8 2 6 6 7 1 9 8 5 2 8 6 6 6 6 1 0 5 8 8 7 8 4 7 5 4 9 2 9 4 7 6 8 9]\n",
      "[0 0 0 0 0 0 0 0 0 0 0 0 0 0 0 0 0 0 0 0 0 0 0 1 0 0 1 0 0 0 1 0 0 0 0]\n",
      "La précision obtenue est de 98.4 %\n",
      "Le recall obtenue est de 99.8 %\n",
      "              precision    recall  f1-score   support\n",
      "\n",
      "           0       1.00      1.00      1.00       330\n",
      "           1       0.97      1.00      0.98        30\n",
      "\n",
      "    accuracy                           1.00       360\n",
      "   macro avg       0.98      1.00      0.99       360\n",
      "weighted avg       1.00      1.00      1.00       360\n",
      "\n",
      "-------------------------------------------------------------------\n",
      "[2 8 2 6 6 7 1 9 8 5 2 8 6 6 6 6 1 0 5 8 8 7 8 4 7 5 4 9 2 9 4 7 6 8 9]\n",
      "[0 0 0 0 0 0 0 0 0 1 0 0 0 0 0 0 0 0 1 0 0 0 0 0 0 1 0 0 0 0 0 0 0 0 0]\n",
      "La précision obtenue est de 98.0 %\n",
      "Le recall obtenue est de 94.8 %\n",
      "              precision    recall  f1-score   support\n",
      "\n",
      "           0       0.99      1.00      0.99       320\n",
      "           1       0.97      0.90      0.94        40\n",
      "\n",
      "    accuracy                           0.99       360\n",
      "   macro avg       0.98      0.95      0.96       360\n",
      "weighted avg       0.99      0.99      0.99       360\n",
      "\n",
      "-------------------------------------------------------------------\n",
      "[2 8 2 6 6 7 1 9 8 5 2 8 6 6 6 6 1 0 5 8 8 7 8 4 7 5 4 9 2 9 4 7 6 8 9]\n",
      "[0 0 0 1 1 0 0 0 0 0 0 0 1 1 1 1 0 0 0 0 0 0 0 0 0 0 0 0 0 0 0 0 1 0 0]\n",
      "La précision obtenue est de 97.39999999999999 %\n",
      "Le recall obtenue est de 97.39999999999999 %\n",
      "              precision    recall  f1-score   support\n",
      "\n",
      "           0       0.99      0.99      0.99       316\n",
      "           1       0.95      0.95      0.95        44\n",
      "\n",
      "    accuracy                           0.99       360\n",
      "   macro avg       0.97      0.97      0.97       360\n",
      "weighted avg       0.99      0.99      0.99       360\n",
      "\n",
      "-------------------------------------------------------------------\n",
      "[2 8 2 6 6 7 1 9 8 5 2 8 6 6 6 6 1 0 5 8 8 7 8 4 7 5 4 9 2 9 4 7 6 8 9]\n",
      "[0 0 0 0 0 1 0 0 0 0 0 0 0 0 0 0 0 0 0 0 0 1 0 0 1 0 0 0 0 0 0 1 0 0 0]\n",
      "La précision obtenue est de 98.4 %\n",
      "Le recall obtenue est de 97.3 %\n",
      "              precision    recall  f1-score   support\n",
      "\n",
      "           0       0.99      1.00      1.00       321\n",
      "           1       0.97      0.95      0.96        39\n",
      "\n",
      "    accuracy                           0.99       360\n",
      "   macro avg       0.98      0.97      0.98       360\n",
      "weighted avg       0.99      0.99      0.99       360\n",
      "\n",
      "-------------------------------------------------------------------\n",
      "[2 8 2 6 6 7 1 9 8 5 2 8 6 6 6 6 1 0 5 8 8 7 8 4 7 5 4 9 2 9 4 7 6 8 9]\n",
      "[0 1 0 0 0 0 0 0 1 0 0 1 0 0 0 0 0 0 0 1 1 0 1 0 0 0 0 0 0 0 0 0 0 0 0]\n",
      "La précision obtenue est de 91.5 %\n",
      "Le recall obtenue est de 87.7 %\n",
      "              precision    recall  f1-score   support\n",
      "\n",
      "           0       0.97      0.98      0.98       321\n",
      "           1       0.86      0.77      0.81        39\n",
      "\n",
      "    accuracy                           0.96       360\n",
      "   macro avg       0.91      0.88      0.89       360\n",
      "weighted avg       0.96      0.96      0.96       360\n",
      "\n",
      "-------------------------------------------------------------------\n",
      "[2 8 2 6 6 7 1 9 8 5 2 8 6 6 6 6 1 0 5 8 8 7 8 4 7 5 4 9 2 9 4 7 6 8 9]\n",
      "[0 0 0 0 0 0 0 1 0 0 0 0 0 0 0 0 0 0 0 0 0 0 0 0 0 0 0 1 0 1 0 0 0 0 1]\n",
      "La précision obtenue est de 95.6 %\n",
      "Le recall obtenue est de 94.69999999999999 %\n",
      "              precision    recall  f1-score   support\n",
      "\n",
      "           0       0.99      0.99      0.99       319\n",
      "           1       0.93      0.90      0.91        41\n",
      "\n",
      "    accuracy                           0.98       360\n",
      "   macro avg       0.96      0.95      0.95       360\n",
      "weighted avg       0.98      0.98      0.98       360\n",
      "\n",
      "-------------------------------------------------------------------\n"
     ]
    }
   ],
   "source": [
    "t = 35\n",
    "# Make predictions on entire test data\n",
    "ypred1 = LogReg1.predict(xtest)\n",
    "print(ytest[:t])\n",
    "print(ypred1[:t]) # permet en effet de prédire les 1\n",
    "print(\"La précision obtenue est de {} %\".format(round(precision_score(list(ytest1), list(ypred1), average = 'macro'),3)*100))\n",
    "print(\"Le recall obtenue est de {} %\".format(round(recall_score(ytest1, ypred1, average = 'macro'),3)*100))\n",
    "print(classification_report(ytest1, ypred1))\n",
    "print(\"-------------------------------------------------------------------\")\n",
    "\n",
    "ypred2 = LogReg2.predict(xtest)\n",
    "print(ytest[:t])\n",
    "print(ypred2[:t]) # permet en effet de prédire les 2\n",
    "print(\"La précision obtenue est de {} %\".format(round(precision_score(list(ytest2), list(ypred2), average = 'macro'),3)*100))\n",
    "print(\"Le recall obtenue est de {} %\".format(round(recall_score(ytest2, ypred2, average = 'macro'),3)*100))\n",
    "print(classification_report(ytest2, ypred2))\n",
    "print(\"-------------------------------------------------------------------\")\n",
    "\n",
    "ypred3 = LogReg3.predict(xtest)\n",
    "print(ytest[:t])\n",
    "print(ypred3[:t]) # permet en effet de prédire les 3\n",
    "print(\"La précision obtenue est de {} %\".format(round(precision_score(list(ytest3), list(ypred3), average = 'macro'),3)*100))\n",
    "print(\"Le recall obtenue est de {} %\".format(round(recall_score(ytest3, ypred3, average = 'macro'),3)*100))\n",
    "print(classification_report(ytest3, ypred3))\n",
    "print(\"-------------------------------------------------------------------\")\n",
    "\n",
    "ypred4 = LogReg4.predict(xtest)\n",
    "print(ytest[:t])\n",
    "print(ypred4[:t]) # permet en effet de prédire les 4\n",
    "print(\"La précision obtenue est de {} %\".format(round(precision_score(list(ytest4), list(ypred4), average = 'macro'),3)*100))\n",
    "print(\"Le recall obtenue est de {} %\".format(round(recall_score(ytest4, ypred4, average = 'macro'),3)*100))\n",
    "print(classification_report(ytest4, ypred4))\n",
    "print(\"-------------------------------------------------------------------\")\n",
    "\n",
    "ypred5 = LogReg5.predict(xtest)\n",
    "print(ytest[:t])\n",
    "print(ypred5[:t]) # permet en effet de prédire les 5\n",
    "print(\"La précision obtenue est de {} %\".format(round(precision_score(list(ytest5), list(ypred5), average = 'macro'),3)*100))\n",
    "print(\"Le recall obtenue est de {} %\".format(round(recall_score(ytest5, ypred5, average = 'macro'),3)*100))\n",
    "print(classification_report(ytest5, ypred5))\n",
    "print(\"-------------------------------------------------------------------\")\n",
    "\n",
    "ypred6 = LogReg6.predict(xtest)\n",
    "print(ytest[:t])\n",
    "print(ypred6[:t]) # permet en effet de prédire les 6\n",
    "print(\"La précision obtenue est de {} %\".format(round(precision_score(list(ytest6), list(ypred6), average = 'macro'),3)*100))\n",
    "print(\"Le recall obtenue est de {} %\".format(round(recall_score(ytest6, ypred6, average = 'macro'),3)*100))\n",
    "print(classification_report(ytest6, ypred6))\n",
    "print(\"-------------------------------------------------------------------\")\n",
    "\n",
    "ypred7 = LogReg7.predict(xtest)\n",
    "print(ytest[:t])\n",
    "print(ypred7[:t]) # permet en effet de prédire les 7\n",
    "print(\"La précision obtenue est de {} %\".format(round(precision_score(list(ytest7), list(ypred7), average = 'macro'),3)*100))\n",
    "print(\"Le recall obtenue est de {} %\".format(round(recall_score(ytest7, ypred7, average = 'macro'),3)*100))\n",
    "print(classification_report(ytest7, ypred7))\n",
    "print(\"-------------------------------------------------------------------\")\n",
    "\n",
    "ypred8 = LogReg8.predict(xtest)\n",
    "print(ytest[:t])\n",
    "print(ypred8[:t]) # permet en effet de prédire les 8\n",
    "print(\"La précision obtenue est de {} %\".format(round(precision_score(list(ytest8), list(ypred8), average = 'macro'),3)*100))\n",
    "print(\"Le recall obtenue est de {} %\".format(round(recall_score(ytest8, ypred8, average = 'macro'),3)*100))\n",
    "print(classification_report(ytest8, ypred8))\n",
    "print(\"-------------------------------------------------------------------\")\n",
    "\n",
    "ypred9 = LogReg9.predict(xtest)\n",
    "print(ytest[:t])\n",
    "print(ypred9[:t]) # permet en effet de prédire les 9\n",
    "print(\"La précision obtenue est de {} %\".format(round(precision_score(list(ytest9), list(ypred9), average = 'macro'),3)*100))\n",
    "print(\"Le recall obtenue est de {} %\".format(round(recall_score(ytest9, ypred9, average = 'macro'),3)*100))\n",
    "print(classification_report(ytest9, ypred9))\n",
    "print(\"-------------------------------------------------------------------\")\n"
   ]
  },
  {
   "cell_type": "markdown",
   "metadata": {},
   "source": [
    "Beaucoup de différence entre les precision et recall (pour les 0 ou les 1) => le jeux n'est pas bien balancé il faudrait mettre des poids par classe avec class_weight"
   ]
  },
  {
   "cell_type": "markdown",
   "metadata": {},
   "source": [
    "### 3.4 Comparaison avec d'autres modèles (SVM, KNN etc...)"
   ]
  },
  {
   "cell_type": "markdown",
   "metadata": {},
   "source": [
    "#### 3.4.1 SVM"
   ]
  },
  {
   "cell_type": "code",
   "execution_count": 23,
   "metadata": {},
   "outputs": [],
   "source": [
    "from sklearn import svm\n",
    "SVM8 = svm.SVC()\n",
    "\n",
    "## Fit + predict\n",
    "SVM8.fit(xtrain, ytrain8)\n",
    "ypredSVM8 = SVM8.predict(xtest)"
   ]
  },
  {
   "cell_type": "markdown",
   "metadata": {},
   "source": [
    "#### 3.4.2 KNN"
   ]
  },
  {
   "cell_type": "code",
   "execution_count": 24,
   "metadata": {},
   "outputs": [],
   "source": [
    "from sklearn.neighbors import KNeighborsClassifier\n",
    "\n",
    "## Choix du nombre de voisins\n",
    "Nneighbors=3\n",
    "neigh8 = KNeighborsClassifier(n_neighbors=Nneighbors)\n",
    "\n",
    "neigh8.fit(xtrain, ytrain8)\n",
    "ypredKNN8 = neigh8.predict(xtest)"
   ]
  },
  {
   "cell_type": "markdown",
   "metadata": {},
   "source": [
    "#### 3.4.3 SGD (Stochastic Gradient Descent)"
   ]
  },
  {
   "cell_type": "code",
   "execution_count": 25,
   "metadata": {},
   "outputs": [],
   "source": [
    "from sklearn.linear_model import SGDClassifier\n",
    "\n",
    "sgd8 = SGDClassifier()\n",
    "sgd8.fit(xtrain, ytrain8)\n",
    "ypredSGD8 = sgd8.predict(xtest)"
   ]
  },
  {
   "cell_type": "markdown",
   "metadata": {},
   "source": [
    "#### 3.4.3 DTC (Decision Tree Classifier)"
   ]
  },
  {
   "cell_type": "code",
   "execution_count": 26,
   "metadata": {},
   "outputs": [],
   "source": [
    "from sklearn.tree import DecisionTreeClassifier\n",
    "dtc8 = DecisionTreeClassifier()\n",
    "dtc8.fit(xtrain, ytrain8)\n",
    "ypredDTC8 = dtc8.predict(xtest)"
   ]
  },
  {
   "cell_type": "markdown",
   "metadata": {},
   "source": [
    "#### 3.4.5 Evaluation"
   ]
  },
  {
   "cell_type": "code",
   "execution_count": 27,
   "metadata": {
    "scrolled": true
   },
   "outputs": [
    {
     "name": "stdout",
     "output_type": "stream",
     "text": [
      "---------------------Reg Log-------------------------\n",
      "              precision    recall  f1-score   support\n",
      "\n",
      "           0       0.97      0.98      0.98       321\n",
      "           1       0.86      0.77      0.81        39\n",
      "\n",
      "    accuracy                           0.96       360\n",
      "   macro avg       0.91      0.88      0.89       360\n",
      "weighted avg       0.96      0.96      0.96       360\n",
      "\n",
      "-----------------------SVM---------------------------\n",
      "              precision    recall  f1-score   support\n",
      "\n",
      "           0       0.99      1.00      1.00       321\n",
      "           1       1.00      0.92      0.96        39\n",
      "\n",
      "    accuracy                           0.99       360\n",
      "   macro avg       1.00      0.96      0.98       360\n",
      "weighted avg       0.99      0.99      0.99       360\n",
      "\n",
      "-----------------------KNN---------------------------\n",
      "              precision    recall  f1-score   support\n",
      "\n",
      "           0       0.99      1.00      1.00       321\n",
      "           1       1.00      0.95      0.97        39\n",
      "\n",
      "    accuracy                           0.99       360\n",
      "   macro avg       1.00      0.97      0.99       360\n",
      "weighted avg       0.99      0.99      0.99       360\n",
      "\n",
      "-----------------------SGD---------------------------\n",
      "              precision    recall  f1-score   support\n",
      "\n",
      "           0       0.99      0.94      0.96       321\n",
      "           1       0.65      0.95      0.77        39\n",
      "\n",
      "    accuracy                           0.94       360\n",
      "   macro avg       0.82      0.94      0.87       360\n",
      "weighted avg       0.96      0.94      0.94       360\n",
      "\n",
      "-----------------------DTC---------------------------\n",
      "              precision    recall  f1-score   support\n",
      "\n",
      "           0       0.97      0.98      0.98       321\n",
      "           1       0.81      0.77      0.79        39\n",
      "\n",
      "    accuracy                           0.96       360\n",
      "   macro avg       0.89      0.87      0.88       360\n",
      "weighted avg       0.95      0.96      0.96       360\n",
      "\n"
     ]
    }
   ],
   "source": [
    "print('---------------------Reg Log-------------------------')\n",
    "print(classification_report(ytest8, ypred8))\n",
    "print('-----------------------SVM---------------------------')\n",
    "print(classification_report(ytest8, ypredSVM8))\n",
    "print('-----------------------KNN---------------------------')\n",
    "print(classification_report(ytest8, ypredKNN8))\n",
    "print('-----------------------SGD---------------------------')\n",
    "print(classification_report(ytest8, ypredSGD8))\n",
    "print('-----------------------DTC---------------------------')\n",
    "print(classification_report(ytest8, ypredDTC8))"
   ]
  },
  {
   "cell_type": "markdown",
   "metadata": {},
   "source": [
    "Dans cette analyse on remarque que les aldo les moins performants sont la regression Logistique et l'arbre de decision (mais c'est pour ce cas particulier donc aucune conclusion hâtive ! )"
   ]
  },
  {
   "cell_type": "markdown",
   "metadata": {},
   "source": [
    "## 4. Multi-class classification"
   ]
  },
  {
   "cell_type": "markdown",
   "metadata": {},
   "source": [
    "### 4.1 En utilisant directement 1 modèle sklearn.linear_model.LogisticRegression\n",
    "#### Création du modèle (choix du modèle +fit)"
   ]
  },
  {
   "cell_type": "code",
   "execution_count": 28,
   "metadata": {},
   "outputs": [
    {
     "name": "stdout",
     "output_type": "stream",
     "text": [
      "209 ms ± 11.3 ms per loop (mean ± std. dev. of 7 runs, 1 loop each)\n"
     ]
    },
    {
     "data": {
      "text/plain": [
       "LogisticRegression(max_iter=2000, solver='liblinear')"
      ]
     },
     "execution_count": 28,
     "metadata": {},
     "output_type": "execute_result"
    }
   ],
   "source": [
    "from sklearn.linear_model import LogisticRegression\n",
    "LogReg = LogisticRegression(max_iter = 2000, solver='liblinear')\n",
    "\n",
    "# Fit des données\n",
    "%timeit LogReg.fit(xtrain,ytrain)\n",
    "LogReg.fit(xtrain,ytrain)\n"
   ]
  },
  {
   "cell_type": "markdown",
   "metadata": {},
   "source": [
    "#### Prédictions"
   ]
  },
  {
   "cell_type": "code",
   "execution_count": 29,
   "metadata": {},
   "outputs": [],
   "source": [
    "# Predict for Multiple Observations (images) at Once\n",
    "LogReg.predict(xtest[0:10])\n",
    "\n",
    "# Make predictions on entire test data\n",
    "ypred = LogReg.predict(xtest)"
   ]
  },
  {
   "cell_type": "markdown",
   "metadata": {},
   "source": [
    "#### Evaluation\n",
    "\n",
    "The recall is the ratio tp / (tp + fn)"
   ]
  },
  {
   "cell_type": "code",
   "execution_count": 30,
   "metadata": {},
   "outputs": [
    {
     "name": "stdout",
     "output_type": "stream",
     "text": [
      "\n",
      "La précision obtenue est de 95.1 %\n",
      "Le recall obtenue est de 95.3 %\n",
      "              precision    recall  f1-score   support\n",
      "\n",
      "           0       1.00      1.00      1.00        27\n",
      "           1       0.89      0.89      0.89        35\n",
      "           2       0.97      0.94      0.96        36\n",
      "           3       0.91      1.00      0.95        29\n",
      "           4       0.97      1.00      0.98        30\n",
      "           5       0.97      0.97      0.97        40\n",
      "           6       0.98      0.98      0.98        44\n",
      "           7       1.00      0.95      0.97        39\n",
      "           8       0.88      0.90      0.89        39\n",
      "           9       0.95      0.90      0.92        41\n",
      "\n",
      "    accuracy                           0.95       360\n",
      "   macro avg       0.95      0.95      0.95       360\n",
      "weighted avg       0.95      0.95      0.95       360\n",
      "\n"
     ]
    }
   ],
   "source": [
    "from sklearn.metrics import precision_score\n",
    "from sklearn.metrics import recall_score\n",
    "\n",
    "# Use score method to get accuracy of model\n",
    "score = LogReg.score(xtest, ytest)\n",
    "\n",
    "prec = round(precision_score(list(ytest), list(ypred), average = 'macro'),3)*100\n",
    "recall = round(recall_score(ytest, ypred, average = 'macro'),3)*100\n",
    "\n",
    "print(\"\")\n",
    "print(\"La précision obtenue est de {} %\".format(prec))\n",
    "print(\"Le recall obtenue est de {} %\".format(recall))\n",
    "print(classification_report(ytest, ypred))"
   ]
  },
  {
   "cell_type": "markdown",
   "metadata": {},
   "source": [
    "On remarque par exemple ici que la precision et accuracy sont bien meilleurs"
   ]
  },
  {
   "cell_type": "markdown",
   "metadata": {},
   "source": [
    "#### Confusion Matrix "
   ]
  },
  {
   "cell_type": "code",
   "execution_count": 31,
   "metadata": {},
   "outputs": [
    {
     "data": {
      "image/png": "[encoded data removed]",
      "text/plain": [
       "<Figure size 648x648 with 2 Axes>"
      ]
     },
     "metadata": {
      "needs_background": "light"
     },
     "output_type": "display_data"
    }
   ],
   "source": [
    "import seaborn as sns\n",
    "from sklearn import metrics\n",
    "\n",
    "cm = metrics.confusion_matrix(ytest, ypred)\n",
    "plt.figure(figsize=(9,9))\n",
    "sns.heatmap(cm, annot=True, fmt=\".3f\", linewidths=.5, square = True, cmap = 'Blues_r');\n",
    "plt.ylabel('Actual label');\n",
    "plt.xlabel('Predicted label');\n",
    "all_sample_title = 'Accuracy Score: {0} %'.format(round(score,3)*100)\n",
    "plt.title(all_sample_title, size = 15);\n",
    "#plt.show();"
   ]
  },
  {
   "cell_type": "markdown",
   "metadata": {},
   "source": [
    "**Etudions les critères d'évaluation du modèle de regression logistique**\n",
    "\n",
    "On parle de :\n",
    "* vrais positifs (VP): individus qui ont été classés positifs et qui le sont réellement;\n",
    "* faux positifs (FP): classés positifs alors qu’ils sont négatifs;\n",
    "* vrai négatifs (VN): individus qui ont été classés négatifs et qui le sont réellement;\n",
    "* faux négatifs (FN): classés négatifs alors qu’ils sont positifs.<br>\n",
    "\n",
    "\n",
    "**Les critères :**\n",
    "\n",
    "* Taux d’erreur : nombre de mauvais classement rapporté à l’effectif total \n",
    "* Taux de succès : probabilité de bon classement du modèle (accuracy)\n",
    "* Sensibilité (ou taux de vrai positif) : capacité du modèle à retrouver les positifs (rappel pour le 1)\n",
    "* Précision : proportion de vrais positifs parmi les individus classés positifs (précision pour le 1)\n",
    "* Spécificité (ou taux de vrai négatif) : proportion de négatifs détectés (rappel pour le 0)\n",
    "* Le taux de faux positifs (TFP) : proportion de négatifs qui ont été classés positifs (précision pour le 0)\n"
   ]
  },
  {
   "cell_type": "markdown",
   "metadata": {},
   "source": [
    "#### Display Misclassified images with Predicted Labels"
   ]
  },
  {
   "cell_type": "code",
   "execution_count": 32,
   "metadata": {},
   "outputs": [],
   "source": [
    "index = 0\n",
    "misclassifiedIndex = []\n",
    "for predict, actual in zip(ypred, ytest):\n",
    "    if predict != actual: \n",
    "        misclassifiedIndex.append(index)\n",
    "    index +=1"
   ]
  },
  {
   "cell_type": "code",
   "execution_count": 33,
   "metadata": {},
   "outputs": [
    {
     "data": {
      "image/png": "[encoded data removed]",
      "text/plain": [
       "<Figure size 1440x288 with 5 Axes>"
      ]
     },
     "metadata": {
      "needs_background": "light"
     },
     "output_type": "display_data"
    }
   ],
   "source": [
    "plt.figure(figsize=(20,4))\n",
    "for plotIndex, wrong in enumerate(misclassifiedIndex[10:15]):\n",
    "    plt.subplot(1, 5, plotIndex + 1)\n",
    "    plt.imshow(np.reshape(xtest[wrong], (8,8)), cmap=plt.cm.gray)\n",
    "    plt.title('Predicted: {}, Actual: {}'.format(ypred[wrong], ytest[wrong]), fontsize = 20)"
   ]
  },
  {
   "cell_type": "markdown",
   "metadata": {},
   "source": [
    "### 4.2. En utilisant nos 10 modèle"
   ]
  },
  {
   "cell_type": "markdown",
   "metadata": {},
   "source": [
    "Je voulais combiner les 10 modèles individuel afin de predire en multiclasse :\n",
    "* Le principe est, pour une image donner, prédire avec les 10 modèles et celui obtenant une probabilité max est le bon\n",
    "* Par manque de temps, je n'ai pas pu le faire..."
   ]
  },
  {
   "cell_type": "markdown",
   "metadata": {},
   "source": [
    "### 4.3 Comparaison avec d'autre modèles du package sklearn\n",
    "#### 4.3.1 SVM"
   ]
  },
  {
   "cell_type": "code",
   "execution_count": 34,
   "metadata": {},
   "outputs": [
    {
     "name": "stdout",
     "output_type": "stream",
     "text": [
      "80.7 ms ± 2.12 ms per loop (mean ± std. dev. of 7 runs, 10 loops each)\n"
     ]
    }
   ],
   "source": [
    "\n",
    "SVM = svm.SVC()\n",
    "\n",
    "## Fit + predict\n",
    "%timeit SVM.fit(xtrain, ytrain)\n",
    "SVM.fit(xtrain, ytrain)\n",
    "\n",
    "ypredSVM = SVM.predict(xtest)"
   ]
  },
  {
   "cell_type": "markdown",
   "metadata": {},
   "source": [
    "#### 4.3.2 KNN"
   ]
  },
  {
   "cell_type": "code",
   "execution_count": 35,
   "metadata": {},
   "outputs": [
    {
     "name": "stdout",
     "output_type": "stream",
     "text": [
      "7.2 ms ± 359 µs per loop (mean ± std. dev. of 7 runs, 100 loops each)\n"
     ]
    }
   ],
   "source": [
    "## Choix du nombre de voisins\n",
    "Nneighbors=3\n",
    "neigh = KNeighborsClassifier(n_neighbors=Nneighbors)\n",
    "\n",
    "%timeit neigh.fit(xtrain, ytrain)\n",
    "neigh.fit(xtrain, ytrain)\n",
    "ypredKNN = neigh.predict(xtest)"
   ]
  },
  {
   "cell_type": "markdown",
   "metadata": {},
   "source": [
    "#### 4.3.3 SGD (Stochastic Gradient Descent)"
   ]
  },
  {
   "cell_type": "code",
   "execution_count": 36,
   "metadata": {},
   "outputs": [
    {
     "name": "stdout",
     "output_type": "stream",
     "text": [
      "59.9 ms ± 2.02 ms per loop (mean ± std. dev. of 7 runs, 10 loops each)\n"
     ]
    }
   ],
   "source": [
    "sgd = SGDClassifier()\n",
    "\n",
    "%timeit sgd.fit(xtrain, ytrain)\n",
    "sgd.fit(xtrain, ytrain)\n",
    "ypredSGD = sgd.predict(xtest)"
   ]
  },
  {
   "cell_type": "markdown",
   "metadata": {},
   "source": [
    "#### 4.3.4 DTC (Decision Tree Classifier)"
   ]
  },
  {
   "cell_type": "code",
   "execution_count": 37,
   "metadata": {},
   "outputs": [
    {
     "name": "stdout",
     "output_type": "stream",
     "text": [
      "17 ms ± 192 µs per loop (mean ± std. dev. of 7 runs, 10 loops each)\n"
     ]
    }
   ],
   "source": [
    "dtc = DecisionTreeClassifier()\n",
    "%timeit dtc.fit(xtrain, ytrain)\n",
    "dtc.fit(xtrain, ytrain)\n",
    "ypredDTC = dtc.predict(xtest)"
   ]
  },
  {
   "cell_type": "markdown",
   "metadata": {},
   "source": [
    "#### 4.3.5 Evaluation / Comparaison"
   ]
  },
  {
   "cell_type": "code",
   "execution_count": 38,
   "metadata": {
    "scrolled": true
   },
   "outputs": [
    {
     "name": "stdout",
     "output_type": "stream",
     "text": [
      "---------------------Reg Log-------------------------\n",
      "              precision    recall  f1-score   support\n",
      "\n",
      "           0       1.00      1.00      1.00        27\n",
      "           1       0.89      0.89      0.89        35\n",
      "           2       0.97      0.94      0.96        36\n",
      "           3       0.91      1.00      0.95        29\n",
      "           4       0.97      1.00      0.98        30\n",
      "           5       0.97      0.97      0.97        40\n",
      "           6       0.98      0.98      0.98        44\n",
      "           7       1.00      0.95      0.97        39\n",
      "           8       0.88      0.90      0.89        39\n",
      "           9       0.95      0.90      0.92        41\n",
      "\n",
      "    accuracy                           0.95       360\n",
      "   macro avg       0.95      0.95      0.95       360\n",
      "weighted avg       0.95      0.95      0.95       360\n",
      "\n",
      "-----------------------SVM---------------------------\n",
      "              precision    recall  f1-score   support\n",
      "\n",
      "           0       1.00      1.00      1.00        27\n",
      "           1       0.97      1.00      0.99        35\n",
      "           2       1.00      1.00      1.00        36\n",
      "           3       1.00      1.00      1.00        29\n",
      "           4       1.00      1.00      1.00        30\n",
      "           5       0.97      0.97      0.97        40\n",
      "           6       1.00      1.00      1.00        44\n",
      "           7       1.00      1.00      1.00        39\n",
      "           8       1.00      0.97      0.99        39\n",
      "           9       0.98      0.98      0.98        41\n",
      "\n",
      "    accuracy                           0.99       360\n",
      "   macro avg       0.99      0.99      0.99       360\n",
      "weighted avg       0.99      0.99      0.99       360\n",
      "\n",
      "-----------------------KNN---------------------------\n",
      "              precision    recall  f1-score   support\n",
      "\n",
      "           0       1.00      1.00      1.00        27\n",
      "           1       1.00      0.97      0.99        35\n",
      "           2       0.97      1.00      0.99        36\n",
      "           3       0.93      0.97      0.95        29\n",
      "           4       1.00      0.97      0.98        30\n",
      "           5       0.97      0.97      0.97        40\n",
      "           6       1.00      1.00      1.00        44\n",
      "           7       0.97      1.00      0.99        39\n",
      "           8       1.00      0.95      0.97        39\n",
      "           9       0.98      1.00      0.99        41\n",
      "\n",
      "    accuracy                           0.98       360\n",
      "   macro avg       0.98      0.98      0.98       360\n",
      "weighted avg       0.98      0.98      0.98       360\n",
      "\n",
      "-----------------------SGD---------------------------\n",
      "              precision    recall  f1-score   support\n",
      "\n",
      "           0       1.00      1.00      1.00        27\n",
      "           1       0.89      0.91      0.90        35\n",
      "           2       1.00      0.89      0.94        36\n",
      "           3       0.97      1.00      0.98        29\n",
      "           4       0.97      1.00      0.98        30\n",
      "           5       0.95      0.97      0.96        40\n",
      "           6       0.98      0.95      0.97        44\n",
      "           7       1.00      0.95      0.97        39\n",
      "           8       0.88      0.97      0.93        39\n",
      "           9       0.95      0.93      0.94        41\n",
      "\n",
      "    accuracy                           0.96       360\n",
      "   macro avg       0.96      0.96      0.96       360\n",
      "weighted avg       0.96      0.96      0.96       360\n",
      "\n",
      "-----------------------DTC---------------------------\n",
      "              precision    recall  f1-score   support\n",
      "\n",
      "           0       0.92      0.89      0.91        27\n",
      "           1       0.85      0.83      0.84        35\n",
      "           2       0.89      0.89      0.89        36\n",
      "           3       0.71      0.86      0.78        29\n",
      "           4       0.89      0.83      0.86        30\n",
      "           5       0.92      0.88      0.90        40\n",
      "           6       0.93      0.95      0.94        44\n",
      "           7       0.90      0.97      0.94        39\n",
      "           8       0.88      0.72      0.79        39\n",
      "           9       0.77      0.83      0.80        41\n",
      "\n",
      "    accuracy                           0.87       360\n",
      "   macro avg       0.87      0.87      0.86       360\n",
      "weighted avg       0.87      0.87      0.87       360\n",
      "\n"
     ]
    }
   ],
   "source": [
    "print('---------------------Reg Log-------------------------')\n",
    "print(classification_report(ytest, ypred))\n",
    "print('-----------------------SVM---------------------------')\n",
    "print(classification_report(ytest, ypredSVM))\n",
    "print('-----------------------KNN---------------------------')\n",
    "print(classification_report(ytest, ypredKNN))\n",
    "print('-----------------------SGD---------------------------')\n",
    "print(classification_report(ytest, ypredSGD))\n",
    "print('-----------------------DTC---------------------------')\n",
    "print(classification_report(ytest, ypredDTC))"
   ]
  },
  {
   "cell_type": "code",
   "execution_count": 39,
   "metadata": {},
   "outputs": [
    {
     "name": "stdout",
     "output_type": "stream",
     "text": [
      "              precision    recall  f1-score   support\n",
      "\n",
      "       img_0       1.00      1.00      1.00        27\n",
      "       img_1       0.89      0.89      0.89        35\n",
      "       img_2       0.97      0.94      0.96        36\n",
      "       img_3       0.91      1.00      0.95        29\n",
      "       img_4       0.97      1.00      0.98        30\n",
      "       img_5       0.97      0.97      0.97        40\n",
      "       img_6       0.98      0.98      0.98        44\n",
      "       img_7       1.00      0.95      0.97        39\n",
      "       img_8       0.88      0.90      0.89        39\n",
      "       img_9       0.95      0.90      0.92        41\n",
      "\n",
      "    accuracy                           0.95       360\n",
      "   macro avg       0.95      0.95      0.95       360\n",
      "weighted avg       0.95      0.95      0.95       360\n",
      "\n"
     ]
    }
   ],
   "source": [
    "target_names = ['img_0', 'img_1', 'img_2', 'img_3', 'img_4', 'img_5','img_6', 'img_7', 'img_8', 'img_9']\n",
    "\n",
    "report = classification_report(ytest, ypred, target_names=target_names, output_dict=True)\n",
    "print(classification_report(ytest, ypred, target_names=target_names))"
   ]
  },
  {
   "cell_type": "code",
   "execution_count": 40,
   "metadata": {},
   "outputs": [
    {
     "name": "stdout",
     "output_type": "stream",
     "text": [
      "0.9507125468617404\n",
      "0.9531024327975548\n"
     ]
    }
   ],
   "source": [
    "report = classification_report(ytest, ypred, target_names=target_names, output_dict=True)\n",
    "#print(report['accuracy']['f1-score'])\n",
    "print(report['macro avg']['precision'])\n",
    "print(report['macro avg']['recall'])"
   ]
  },
  {
   "cell_type": "markdown",
   "metadata": {},
   "source": [
    "Dans le cas multiclass en terme de performances les deux grand gagnant sont KNN et SVM. Et l'algo qui voit ses performances se dégrader et fini derner est l'arbre de Décision.\n",
    "\n",
    "En ce qui concerne le temps d'execution, le plus rapide est le KNN et le plus lent la régréssion logistique "
   ]
  },
  {
   "cell_type": "markdown",
   "metadata": {},
   "source": [
    "### 4.4. Cross Validation\n",
    "Ici l'objectif est de faire varier la taille des training et testing set sur plusieurs types de modèles afin d'en evaluer l'impacte.\n"
   ]
  },
  {
   "cell_type": "code",
   "execution_count": null,
   "metadata": {},
   "outputs": [],
   "source": [
    "import time\n",
    "import pandas as pd\n",
    "\n",
    "\n",
    "# prepare models\n",
    "models = [['LR', LogisticRegression(max_iter = 2000, solver='liblinear')], \n",
    "          ['KNN', KNeighborsClassifier()],\n",
    "          ['SVM', svm.SVC()], \n",
    "          ['SGD', SGDClassifier()],\n",
    "          ['DTC', DecisionTreeClassifier()]\n",
    "         ]\n",
    "\n",
    "# infos pour le dataFrame\n",
    "\n",
    "columns=['score_train', 'Precision_train', 'Recall_train', \n",
    "         'score_test', 'Precision_test', 'Recall_test',\n",
    "         'time']\n",
    "results = []\n",
    "index =[]\n",
    "\n",
    "\n",
    "xtrain, xtest, ytrain, ytest = train_test_split(digits.data, digits.target, test_size=0.2, random_state=0)\n",
    "\n",
    "# evaluate each model in turn\n",
    "for name, model in models:\n",
    "    tps1 = time.time()\n",
    "    model.fit(xtrain, ytrain)\n",
    "    ypred_test = model.predict(xtest)\n",
    "    ypred_train = model.predict(xtrain)\n",
    "\n",
    "    # evaluation du modèle\n",
    "    score_test = LogReg.score(xtest, ytest)\n",
    "    report_test = classification_report(ytest, ypred_test, target_names=target_names, output_dict=True)\n",
    "    score_train = LogReg.score(xtrain, ytrain)\n",
    "    report_train = classification_report(ytrain, ypred_train, target_names=target_names, output_dict=True)\n",
    "    #print(report['macro avg']['precision'])\n",
    "    #print(report['macro avg']['recall'])\n",
    "\n",
    "    tps2 = time.time()\n",
    "    tps = tps2 - tps1\n",
    "    index.append(name)\n",
    "    results.append([score_train, report_train['macro avg']['precision'], report_train['macro avg']['recall'],\n",
    "                         score_test, report_test['macro avg']['precision'], report_test['macro avg']['recall'],\n",
    "                         tps])\n",
    "results_df = pd.DataFrame(results, index = index, columns=columns)\n",
    "\n",
    "\n",
    "results_df\n",
    "    "
   ]
  },
  {
   "cell_type": "code",
   "execution_count": 58,
   "metadata": {},
   "outputs": [
    {
     "data": {
      "text/html": [
       "<div>\n",
       "<style scoped>\n",
       "    .dataframe tbody tr th:only-of-type {\n",
       "        vertical-align: middle;\n",
       "    }\n",
       "\n",
       "    .dataframe tbody tr th {\n",
       "        vertical-align: top;\n",
       "    }\n",
       "\n",
       "    .dataframe thead th {\n",
       "        text-align: right;\n",
       "    }\n",
       "</style>\n",
       "<table border=\"1\" class=\"dataframe\">\n",
       "  <thead>\n",
       "    <tr style=\"text-align: right;\">\n",
       "      <th></th>\n",
       "      <th>score_train</th>\n",
       "      <th>Precision_train</th>\n",
       "      <th>Recall_train</th>\n",
       "      <th>score_test</th>\n",
       "      <th>Precision_test</th>\n",
       "      <th>Recall_test</th>\n",
       "      <th>time</th>\n",
       "    </tr>\n",
       "  </thead>\n",
       "  <tbody>\n",
       "    <tr>\n",
       "      <th>LR</th>\n",
       "      <td>0.992580</td>\n",
       "      <td>0.993708</td>\n",
       "      <td>0.993554</td>\n",
       "      <td>1.000000</td>\n",
       "      <td>0.988889</td>\n",
       "      <td>0.980000</td>\n",
       "      <td>0.425966</td>\n",
       "    </tr>\n",
       "    <tr>\n",
       "      <th>LR</th>\n",
       "      <td>0.993556</td>\n",
       "      <td>0.992948</td>\n",
       "      <td>0.992858</td>\n",
       "      <td>0.977778</td>\n",
       "      <td>0.966623</td>\n",
       "      <td>0.959957</td>\n",
       "      <td>0.321469</td>\n",
       "    </tr>\n",
       "    <tr>\n",
       "      <th>LR</th>\n",
       "      <td>0.995671</td>\n",
       "      <td>0.993238</td>\n",
       "      <td>0.992869</td>\n",
       "      <td>0.966667</td>\n",
       "      <td>0.959830</td>\n",
       "      <td>0.963557</td>\n",
       "      <td>0.282973</td>\n",
       "    </tr>\n",
       "    <tr>\n",
       "      <th>LR</th>\n",
       "      <td>0.997380</td>\n",
       "      <td>0.994103</td>\n",
       "      <td>0.993929</td>\n",
       "      <td>0.966667</td>\n",
       "      <td>0.945685</td>\n",
       "      <td>0.948988</td>\n",
       "      <td>0.308616</td>\n",
       "    </tr>\n",
       "    <tr>\n",
       "      <th>LR</th>\n",
       "      <td>1.000000</td>\n",
       "      <td>0.995832</td>\n",
       "      <td>0.995680</td>\n",
       "      <td>0.963889</td>\n",
       "      <td>0.950713</td>\n",
       "      <td>0.953102</td>\n",
       "      <td>0.276293</td>\n",
       "    </tr>\n",
       "    <tr>\n",
       "      <th>LR</th>\n",
       "      <td>1.000000</td>\n",
       "      <td>0.996155</td>\n",
       "      <td>0.996157</td>\n",
       "      <td>0.971111</td>\n",
       "      <td>0.954348</td>\n",
       "      <td>0.954302</td>\n",
       "      <td>0.268975</td>\n",
       "    </tr>\n",
       "    <tr>\n",
       "      <th>LR</th>\n",
       "      <td>1.000000</td>\n",
       "      <td>0.997426</td>\n",
       "      <td>0.997489</td>\n",
       "      <td>0.975926</td>\n",
       "      <td>0.953687</td>\n",
       "      <td>0.953295</td>\n",
       "      <td>0.229500</td>\n",
       "    </tr>\n",
       "    <tr>\n",
       "      <th>LR</th>\n",
       "      <td>1.000000</td>\n",
       "      <td>0.998248</td>\n",
       "      <td>0.998305</td>\n",
       "      <td>0.979332</td>\n",
       "      <td>0.945448</td>\n",
       "      <td>0.944518</td>\n",
       "      <td>0.212194</td>\n",
       "    </tr>\n",
       "    <tr>\n",
       "      <th>LR</th>\n",
       "      <td>1.000000</td>\n",
       "      <td>0.997959</td>\n",
       "      <td>0.998113</td>\n",
       "      <td>0.981919</td>\n",
       "      <td>0.950685</td>\n",
       "      <td>0.949495</td>\n",
       "      <td>0.190533</td>\n",
       "    </tr>\n",
       "    <tr>\n",
       "      <th>LR</th>\n",
       "      <td>1.000000</td>\n",
       "      <td>0.998889</td>\n",
       "      <td>0.999010</td>\n",
       "      <td>0.983931</td>\n",
       "      <td>0.956118</td>\n",
       "      <td>0.954922</td>\n",
       "      <td>0.176502</td>\n",
       "    </tr>\n",
       "    <tr>\n",
       "      <th>LR</th>\n",
       "      <td>1.000000</td>\n",
       "      <td>0.998901</td>\n",
       "      <td>0.998864</td>\n",
       "      <td>0.985539</td>\n",
       "      <td>0.946232</td>\n",
       "      <td>0.945398</td>\n",
       "      <td>0.160099</td>\n",
       "    </tr>\n",
       "    <tr>\n",
       "      <th>LR</th>\n",
       "      <td>1.000000</td>\n",
       "      <td>1.000000</td>\n",
       "      <td>1.000000</td>\n",
       "      <td>0.986855</td>\n",
       "      <td>0.949397</td>\n",
       "      <td>0.948209</td>\n",
       "      <td>0.137707</td>\n",
       "    </tr>\n",
       "    <tr>\n",
       "      <th>LR</th>\n",
       "      <td>1.000000</td>\n",
       "      <td>1.000000</td>\n",
       "      <td>1.000000</td>\n",
       "      <td>0.987952</td>\n",
       "      <td>0.952721</td>\n",
       "      <td>0.952318</td>\n",
       "      <td>0.126451</td>\n",
       "    </tr>\n",
       "    <tr>\n",
       "      <th>LR</th>\n",
       "      <td>1.000000</td>\n",
       "      <td>1.000000</td>\n",
       "      <td>1.000000</td>\n",
       "      <td>0.988879</td>\n",
       "      <td>0.955480</td>\n",
       "      <td>0.955744</td>\n",
       "      <td>0.108884</td>\n",
       "    </tr>\n",
       "    <tr>\n",
       "      <th>LR</th>\n",
       "      <td>1.000000</td>\n",
       "      <td>1.000000</td>\n",
       "      <td>1.000000</td>\n",
       "      <td>0.989666</td>\n",
       "      <td>0.943746</td>\n",
       "      <td>0.942361</td>\n",
       "      <td>0.088315</td>\n",
       "    </tr>\n",
       "    <tr>\n",
       "      <th>LR</th>\n",
       "      <td>1.000000</td>\n",
       "      <td>1.000000</td>\n",
       "      <td>1.000000</td>\n",
       "      <td>0.990356</td>\n",
       "      <td>0.956283</td>\n",
       "      <td>0.955822</td>\n",
       "      <td>0.076803</td>\n",
       "    </tr>\n",
       "    <tr>\n",
       "      <th>LR</th>\n",
       "      <td>1.000000</td>\n",
       "      <td>1.000000</td>\n",
       "      <td>1.000000</td>\n",
       "      <td>0.990960</td>\n",
       "      <td>0.943714</td>\n",
       "      <td>0.943741</td>\n",
       "      <td>0.057197</td>\n",
       "    </tr>\n",
       "    <tr>\n",
       "      <th>LR</th>\n",
       "      <td>1.000000</td>\n",
       "      <td>1.000000</td>\n",
       "      <td>1.000000</td>\n",
       "      <td>0.991492</td>\n",
       "      <td>0.936856</td>\n",
       "      <td>0.936471</td>\n",
       "      <td>0.039873</td>\n",
       "    </tr>\n",
       "    <tr>\n",
       "      <th>LR</th>\n",
       "      <td>1.000000</td>\n",
       "      <td>1.000000</td>\n",
       "      <td>1.000000</td>\n",
       "      <td>0.991965</td>\n",
       "      <td>0.930634</td>\n",
       "      <td>0.928455</td>\n",
       "      <td>0.029896</td>\n",
       "    </tr>\n",
       "    <tr>\n",
       "      <th>LR</th>\n",
       "      <td>1.000000</td>\n",
       "      <td>1.000000</td>\n",
       "      <td>1.000000</td>\n",
       "      <td>0.992389</td>\n",
       "      <td>0.900618</td>\n",
       "      <td>0.897547</td>\n",
       "      <td>0.022121</td>\n",
       "    </tr>\n",
       "    <tr>\n",
       "      <th>LR</th>\n",
       "      <td>1.000000</td>\n",
       "      <td>1.000000</td>\n",
       "      <td>1.000000</td>\n",
       "      <td>0.992559</td>\n",
       "      <td>0.847733</td>\n",
       "      <td>0.833233</td>\n",
       "      <td>0.020717</td>\n",
       "    </tr>\n",
       "  </tbody>\n",
       "</table>\n",
       "</div>"
      ],
      "text/plain": [
       "    score_train  Precision_train  Recall_train  score_test  Precision_test  \\\n",
       "LR     0.992580         0.993708      0.993554    1.000000        0.988889   \n",
       "LR     0.993556         0.992948      0.992858    0.977778        0.966623   \n",
       "LR     0.995671         0.993238      0.992869    0.966667        0.959830   \n",
       "LR     0.997380         0.994103      0.993929    0.966667        0.945685   \n",
       "LR     1.000000         0.995832      0.995680    0.963889        0.950713   \n",
       "LR     1.000000         0.996155      0.996157    0.971111        0.954348   \n",
       "LR     1.000000         0.997426      0.997489    0.975926        0.953687   \n",
       "LR     1.000000         0.998248      0.998305    0.979332        0.945448   \n",
       "LR     1.000000         0.997959      0.998113    0.981919        0.950685   \n",
       "LR     1.000000         0.998889      0.999010    0.983931        0.956118   \n",
       "LR     1.000000         0.998901      0.998864    0.985539        0.946232   \n",
       "LR     1.000000         1.000000      1.000000    0.986855        0.949397   \n",
       "LR     1.000000         1.000000      1.000000    0.987952        0.952721   \n",
       "LR     1.000000         1.000000      1.000000    0.988879        0.955480   \n",
       "LR     1.000000         1.000000      1.000000    0.989666        0.943746   \n",
       "LR     1.000000         1.000000      1.000000    0.990356        0.956283   \n",
       "LR     1.000000         1.000000      1.000000    0.990960        0.943714   \n",
       "LR     1.000000         1.000000      1.000000    0.991492        0.936856   \n",
       "LR     1.000000         1.000000      1.000000    0.991965        0.930634   \n",
       "LR     1.000000         1.000000      1.000000    0.992389        0.900618   \n",
       "LR     1.000000         1.000000      1.000000    0.992559        0.847733   \n",
       "\n",
       "    Recall_test      time  \n",
       "LR     0.980000  0.425966  \n",
       "LR     0.959957  0.321469  \n",
       "LR     0.963557  0.282973  \n",
       "LR     0.948988  0.308616  \n",
       "LR     0.953102  0.276293  \n",
       "LR     0.954302  0.268975  \n",
       "LR     0.953295  0.229500  \n",
       "LR     0.944518  0.212194  \n",
       "LR     0.949495  0.190533  \n",
       "LR     0.954922  0.176502  \n",
       "LR     0.945398  0.160099  \n",
       "LR     0.948209  0.137707  \n",
       "LR     0.952318  0.126451  \n",
       "LR     0.955744  0.108884  \n",
       "LR     0.942361  0.088315  \n",
       "LR     0.955822  0.076803  \n",
       "LR     0.943741  0.057197  \n",
       "LR     0.936471  0.039873  \n",
       "LR     0.928455  0.029896  \n",
       "LR     0.897547  0.022121  \n",
       "LR     0.833233  0.020717  "
      ]
     },
     "execution_count": 58,
     "metadata": {},
     "output_type": "execute_result"
    }
   ],
   "source": [
    "import time\n",
    "import pandas as pd\n",
    "\n",
    "\n",
    "# prepare models\n",
    "models = [['LR', LogisticRegression(max_iter = 2000, solver='liblinear')], \n",
    "#          ['KNN', KNeighborsClassifier()],\n",
    "#          ['SVM', svm.SVC()], \n",
    "#          ['SGD', SGDClassifier()],\n",
    "#          ['DTC', DecisionTreeClassifier()]\n",
    "         ]\n",
    "\n",
    "# infos pour le dataFrame\n",
    "\n",
    "columns=['score_train', 'Precision_train', 'Recall_train', \n",
    "         'score_test', 'Precision_test', 'Recall_test',\n",
    "         'time']\n",
    "results = []\n",
    "index =[]\n",
    "\n",
    "\n",
    "test_size = [0.025, 0.05, 0.1, 0.15, 0.2, 0.25, 0.3, 0.35, 0.4, 0.45, 0.5,\n",
    "             0.55, 0.6, 0.65, 0.7, 0.75, 0.8, 0.85, 0.9, 0.95, 0.972]\n",
    "nb =len(test_size)\n",
    "for i in range(nb):\n",
    "    xtrain, xtest, ytrain, ytest = train_test_split(digits.data, digits.target, test_size=test_size[i], random_state=0)\n",
    "\n",
    "    # evaluate each model in turn\n",
    "    for name, model in models:\n",
    "        tps1 = time.time()\n",
    "        model.fit(xtrain, ytrain)\n",
    "        ypred_test = model.predict(xtest)\n",
    "        ypred_train = model.predict(xtrain)\n",
    "\n",
    "        # evaluation du modèle\n",
    "        score_test = LogReg.score(xtest, ytest)\n",
    "        report_test = classification_report(ytest, ypred_test, target_names=target_names, output_dict=True)\n",
    "        score_train = LogReg.score(xtrain, ytrain)\n",
    "        report_train = classification_report(ytrain, ypred_train, target_names=target_names, output_dict=True)\n",
    "        #print(report['macro avg']['precision'])\n",
    "        #print(report['macro avg']['recall'])\n",
    "\n",
    "        tps2 = time.time()\n",
    "        tps = tps2 - tps1\n",
    "        index.append(name)\n",
    "        results.append([score_train, report_train['macro avg']['precision'], report_train['macro avg']['recall'],\n",
    "                             score_test, report_test['macro avg']['precision'], report_test['macro avg']['recall'],\n",
    "                             tps])\n",
    "        \n",
    "    results_df = pd.DataFrame(results, index = index, columns=columns)\n",
    "    results_df\n",
    "\n",
    "\n",
    "results_df\n",
    "    "
   ]
  },
  {
   "cell_type": "markdown",
   "metadata": {},
   "source": [
    "Les performances de la regression logistique rest supérieur à 90% jusqu'a 95 % du set pour le test.\n",
    "Autrement dit avec uniquement 5% des données pour le test (90 images) la precission et le rappel sont à 90%"
   ]
  },
  {
   "cell_type": "markdown",
   "metadata": {},
   "source": [
    "## 5. Gradient descent \n",
    "\n",
    "We want to observe the convergence of the performance.\n",
    "To do so, we want to implement our own version of the Logistic regression inference algorithm.\n",
    "\n",
    "> veille\n",
    "What algorithm uses sklearn to estimate the model parameters for the logistic regression ?\n",
    "* What are the keys equations who need to implement the algorithm ?\n"
   ]
  },
  {
   "cell_type": "code",
   "execution_count": null,
   "metadata": {},
   "outputs": [],
   "source": []
  },
  {
   "cell_type": "markdown",
   "metadata": {},
   "source": [
    "* what is the difference between the gradient descent and stochastic gradient descent ?\n",
    "\n",
    "Write the *pseudo-code* of the algorithm to be sure to understand all the different steps.\n",
    "https://fr.wikipedia.org/wiki/Pseudo-code"
   ]
  },
  {
   "cell_type": "code",
   "execution_count": 63,
   "metadata": {},
   "outputs": [
    {
     "name": "stdout",
     "output_type": "stream",
     "text": [
      "--------------------------------------------------------------------------------------------------------\n",
      "Solver par default : LBFGS -> Limited Memory Broyden Fletcher Goldfarb Shanno (BFGS) - de la famille des\n",
      "methodes quasi Newton mais ne stocke que les dernières mises à jour du gradient (pas calcul hessienne),\n",
      "donc il économise de la mémoire.la méthode L-BFGS est particulièrement bien adaptée aux problèmes\n",
      "d'optimisation avec de nombreuses variables\n",
      "------\n",
      "temps d'execution:\n",
      "6.67 s ± 496 ms per loop (mean ± std. dev. of 7 runs, 1 loop each)\n",
      "--------------------------------------------------------------------------------------------------------\n",
      "Solver liblinear. Utilise un algorithme de descente de coordonnées. Il se déplace vers le minimum dans\n",
      "une direction à la fois.C'est l'ancien solver par default.Il présente un certain nombre d’inconvénients.\n",
      " Il peut rester bloqué, ne peut pas fonctionner en parallèle et ne peut résoudre qu'une régression\n",
      "logistique multi-classes avec un contre repos.\n",
      "------\n",
      "temps d'execution:\n",
      "244 ms ± 33.8 ms per loop (mean ± std. dev. of 7 runs, 1 loop each)\n",
      "--------------------------------------------------------------------------------------------------------\n",
      "Solver newton-cg. Une méthode newton. Les méthodes de Newton utilisent une matrice hessienne exacte.\n",
      "C'est lent pour les grands ensembles de données, car il calcule les secondes dérivées.\n",
      "------\n",
      "temps d'execution:\n",
      "1.74 s ± 213 ms per loop (mean ± std. dev. of 7 runs, 1 loop each)\n",
      "--------------------------------------------------------------------------------------------------------\n",
      "Solver sag. Descente de gradient moyen stochastique.\n",
      "------\n",
      "temps d'execution:\n",
      "6.39 s ± 360 ms per loop (mean ± std. dev. of 7 runs, 1 loop each)\n",
      "--------------------------------------------------------------------------------------------------------\n",
      "Solver saga. Descente de gradient moyen stochastique prenant en compte les pénalité l1 par rapport au solver sag\n",
      "------\n",
      "temps d'execution:\n",
      "16.3 s ± 205 ms per loop (mean ± std. dev. of 7 runs, 1 loop each)\n"
     ]
    }
   ],
   "source": [
    "xtrain, xtest, ytrain, ytest = train_test_split(digits.data, digits.target, test_size=0.2, random_state=0)\n",
    "print('--------------------------------------------------------------------------------------------------------')\n",
    "print('Solver par default : LBFGS -> Limited Memory Broyden Fletcher Goldfarb Shanno (BFGS) - de la famille des') \n",
    "print('methodes quasi Newton mais ne stocke que les dernières mises à jour du gradient (pas calcul hessienne),')\n",
    "print('donc il économise de la mémoire.la méthode L-BFGS est particulièrement bien adaptée aux problèmes')\n",
    "print('d\\'optimisation avec de nombreuses variables')\n",
    "print('------')\n",
    "print('temps d\\'execution:')\n",
    "LogReg = LogisticRegression(max_iter = 10000)                  # Par default il s'agit du solver **lbfgs**\n",
    "%timeit LogReg.fit(xtrain, ytrain)\n",
    "print('--------------------------------------------------------------------------------------------------------')\n",
    "print('Solver liblinear. Utilise un algorithme de descente de coordonnées. Il se déplace vers le minimum dans')\n",
    "print('une direction à la fois.C\\'est l\\'ancien solver par default.Il présente un certain nombre d’inconvénients.')\n",
    "print(' Il peut rester bloqué, ne peut pas fonctionner en parallèle et ne peut résoudre qu\\'une régression')\n",
    "print('logistique multi-classes avec un contre repos.')\n",
    "print('------')\n",
    "print('temps d\\'execution:')\n",
    "LogReg = LogisticRegression(solver='liblinear') \n",
    "%timeit LogReg.fit(xtrain, ytrain)\n",
    "print('--------------------------------------------------------------------------------------------------------')\n",
    "print('Solver newton-cg. Une méthode newton. Les méthodes de Newton utilisent une matrice hessienne exacte.')\n",
    "print('C\\'est lent pour les grands ensembles de données, car il calcule les secondes dérivées.')\n",
    "print('------')\n",
    "print('temps d\\'execution:')\n",
    "LogReg = LogisticRegression(solver='newton-cg', max_iter = 10000) \n",
    "%timeit LogReg.fit(xtrain, ytrain) #fast converg is only guaranteed with the same scale (approx)\n",
    "print('--------------------------------------------------------------------------------------------------------')\n",
    "print('Solver sag. Descente de gradient moyen stochastique.')\n",
    "print('------')\n",
    "print('temps d\\'execution:')\n",
    "LogReg = LogisticRegression(solver='sag', max_iter = 10000)      #fast converg is only guaranteed with the same scale (approx)\n",
    "%timeit LogReg.fit(xtrain, ytrain) #fast converg is only guaranteed with the same scale (approx)\n",
    "print('--------------------------------------------------------------------------------------------------------')\n",
    "print('Solver saga. Descente de gradient moyen stochastique prenant en compte les pénalité l1 par rapport au solver sag')\n",
    "print('------')\n",
    "print('temps d\\'execution:')\n",
    "LogReg = LogisticRegression(solver='saga', max_iter = 10000)     #fast converg is only guaranteed with the same scale (approx)\n",
    "%timeit LogReg.fit(xtrain, ytrain) #fast converg is only guaranteed with the same scale (approx)"
   ]
  },
  {
   "cell_type": "markdown",
   "metadata": {},
   "source": [
    "Implement the gradient descent for the logistic regression.\n",
    "\n",
    "\n"
   ]
  },
  {
   "cell_type": "code",
   "execution_count": null,
   "metadata": {},
   "outputs": [],
   "source": []
  },
  {
   "cell_type": "markdown",
   "metadata": {},
   "source": [
    "Show the convergence of the performance results with two graphics:\n",
    "* the **precision** score on testing set AND training set \n",
    "* the **recall** score on testing set AND training set \n",
    "\n"
   ]
  },
  {
   "cell_type": "markdown",
   "metadata": {},
   "source": []
  },
  {
   "cell_type": "markdown",
   "metadata": {},
   "source": [
    "\n",
    "What is the impact of the learning rate on the convergence ?\n",
    "What difference do you observe on the results between the training set and testing set"
   ]
  },
  {
   "cell_type": "code",
   "execution_count": null,
   "metadata": {},
   "outputs": [],
   "source": []
  },
  {
   "cell_type": "code",
   "execution_count": null,
   "metadata": {},
   "outputs": [],
   "source": []
  },
  {
   "cell_type": "code",
   "execution_count": null,
   "metadata": {},
   "outputs": [],
   "source": []
  },
  {
   "cell_type": "code",
   "execution_count": null,
   "metadata": {},
   "outputs": [],
   "source": []
  }
 ],
 "metadata": {
  "kernelspec": {
   "display_name": "Python 3",
   "language": "python",
   "name": "python3"
  },
  "language_info": {
   "codemirror_mode": {
    "name": "ipython",
    "version": 3
   },
   "file_extension": ".py",
   "mimetype": "text/x-python",
   "name": "python",
   "nbconvert_exporter": "python",
   "pygments_lexer": "ipython3",
   "version": "3.8.3"
  }
 },
 "nbformat": 4,
 "nbformat_minor": 2
}
